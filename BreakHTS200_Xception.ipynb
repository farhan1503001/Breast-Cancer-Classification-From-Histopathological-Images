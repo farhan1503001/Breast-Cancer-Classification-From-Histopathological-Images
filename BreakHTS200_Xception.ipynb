{
  "nbformat": 4,
  "nbformat_minor": 0,
  "metadata": {
    "colab": {
      "name": "BreakHTS200 Xception.ipynb",
      "provenance": [],
      "collapsed_sections": [],
      "authorship_tag": "ABX9TyODw5CnVZO0+xTvkZXAW67a",
      "include_colab_link": true
    },
    "kernelspec": {
      "name": "python3",
      "display_name": "Python 3"
    },
    "accelerator": "GPU"
  },
  "cells": [
    {
      "cell_type": "markdown",
      "metadata": {
        "id": "view-in-github",
        "colab_type": "text"
      },
      "source": [
        "<a href=\"https://colab.research.google.com/github/farhan1503001/Breast-Cancer-Classification-From-Histopathological-Images/blob/master/BreakHTS200_Xception.ipynb\" target=\"_parent\"><img src=\"https://colab.research.google.com/assets/colab-badge.svg\" alt=\"Open In Colab\"/></a>"
      ]
    },
    {
      "cell_type": "code",
      "metadata": {
        "id": "rkVz9bdL4fMO",
        "colab": {
          "base_uri": "https://localhost:8080/"
        },
        "outputId": "58dbe30a-0024-4026-8640-a1601c20bc11"
      },
      "source": [
        "from google.colab import drive\n",
        "drive.mount('/content/drive')"
      ],
      "execution_count": 1,
      "outputs": [
        {
          "output_type": "stream",
          "text": [
            "Mounted at /content/drive\n"
          ],
          "name": "stdout"
        }
      ]
    },
    {
      "cell_type": "code",
      "metadata": {
        "id": "A-qxIo9-4tko"
      },
      "source": [
        "import tensorflow as tf\n",
        "import h5py\n",
        "import numpy as np\n",
        "import os\n",
        "import cv2\n",
        "from sklearn.metrics import precision_score,recall_score,f1_score,roc_auc_score\n",
        "from imblearn.metrics import sensitivity_specificity_support\n",
        "from sklearn.preprocessing import StandardScaler\n",
        "scaler=StandardScaler()"
      ],
      "execution_count": 3,
      "outputs": []
    },
    {
      "cell_type": "code",
      "metadata": {
        "id": "o5WzdNnE48bn",
        "colab": {
          "base_uri": "https://localhost:8080/"
        },
        "outputId": "86de6e54-dc5d-4efd-f3c3-ff56e7d95995"
      },
      "source": [
        "x_dataset=[]\n",
        "y_dataset=[]\n",
        "src=os.listdir('/content/drive/My Drive/200/benign/')\n",
        "i=0\n",
        "for filename in src:\n",
        "    full_file_name='/content/drive/My Drive/200/benign/'+filename\n",
        "    x=cv2.imread(full_file_name)\n",
        "    x=np.array(x,dtype='float32')\n",
        "    y=0\n",
        "    y=np.array(y,dtype='float32')\n",
        "    x=x/255.0\n",
        "    x=cv2.resize(x,(224,224))\n",
        "    x_dataset.append(x)\n",
        "    y_dataset.append(y)\n",
        "    i=i+1\n",
        "    if i%100==0:\n",
        "      print(i)\n",
        "    else:\n",
        "      pass"
      ],
      "execution_count": 4,
      "outputs": [
        {
          "output_type": "stream",
          "text": [
            "100\n",
            "200\n",
            "300\n",
            "400\n",
            "500\n",
            "600\n"
          ],
          "name": "stdout"
        }
      ]
    },
    {
      "cell_type": "code",
      "metadata": {
        "id": "4oA9yqMD5GVK",
        "colab": {
          "base_uri": "https://localhost:8080/"
        },
        "outputId": "139ef92f-c371-4b72-dfdc-b0dae3ac8bf4"
      },
      "source": [
        "src=os.listdir('/content/drive/My Drive/200/malignant/')\n",
        "i=0\n",
        "for filename in src:\n",
        "    full_file_name='/content/drive/My Drive/200/malignant/'+filename\n",
        "    x=cv2.imread(full_file_name)\n",
        "    x=np.array(x,dtype='float32')\n",
        "    y=1\n",
        "    y=np.array(y,dtype='float32')\n",
        "    x=x/255.0\n",
        "    x=cv2.resize(x,(224,224))\n",
        "    x_dataset.append(x)\n",
        "    y_dataset.append(y)\n",
        "    \n",
        "    i=i+1\n",
        "    if i%100==0:\n",
        "      print(i)\n",
        "    else:\n",
        "      pass"
      ],
      "execution_count": 5,
      "outputs": [
        {
          "output_type": "stream",
          "text": [
            "100\n",
            "200\n",
            "300\n",
            "400\n",
            "500\n",
            "600\n",
            "700\n",
            "800\n",
            "900\n",
            "1000\n",
            "1100\n",
            "1200\n",
            "1300\n"
          ],
          "name": "stdout"
        }
      ]
    },
    {
      "cell_type": "code",
      "metadata": {
        "id": "QJQ1FWpH5TOE"
      },
      "source": [
        "X_dataset=np.array(x_dataset)\n",
        "Y_dataset=np.array(y_dataset)\n",
        "Y_dataset=Y_dataset.reshape((2013,1))"
      ],
      "execution_count": 6,
      "outputs": []
    },
    {
      "cell_type": "code",
      "metadata": {
        "id": "tPtWaglPUhUc"
      },
      "source": [
        "from sklearn.utils import shuffle\n",
        "X_dataset,Y_dataset = shuffle(X_dataset,Y_dataset, random_state=0)"
      ],
      "execution_count": 7,
      "outputs": []
    },
    {
      "cell_type": "code",
      "metadata": {
        "id": "jxQL20CVXQhe"
      },
      "source": [
        "from sklearn.model_selection import train_test_split\n",
        "x_train,x_test,y_train,y_test=train_test_split(X_dataset,Y_dataset,test_size=0.20)"
      ],
      "execution_count": 8,
      "outputs": []
    },
    {
      "cell_type": "code",
      "metadata": {
        "id": "LX17-r1S6VmL"
      },
      "source": [
        "from sklearn.model_selection import StratifiedShuffleSplit\n",
        "folds=list(StratifiedShuffleSplit(n_splits=5,random_state=1).split(x_train,y_train))"
      ],
      "execution_count": 9,
      "outputs": []
    },
    {
      "cell_type": "code",
      "metadata": {
        "id": "3_vxQPwk6ZMk",
        "colab": {
          "base_uri": "https://localhost:8080/"
        },
        "outputId": "4e588ac9-2759-49f1-f053-39db18a99a65"
      },
      "source": [
        "Inception=tf.keras.applications.Xception(include_top=False,input_shape=(224,224,3))\n",
        "input_image=tf.keras.layers.Input((224,224,3))\n",
        "x=Inception (input_image)\n",
        "x=tf.keras.layers.Flatten()(x)\n",
        "x=tf.keras.layers.Dense(1)(x)\n",
        "out=tf.keras.layers.Activation(activation='sigmoid')(x)\n",
        "\n",
        "model=tf.keras.Model(inputs=input_image,outputs=out)\n",
        "\n",
        "model.compile(optimizer=tf.keras.optimizers.RMSprop(lr=0.0001),loss='binary_crossentropy',metrics=['accuracy'])\n"
      ],
      "execution_count": 10,
      "outputs": [
        {
          "output_type": "stream",
          "text": [
            "Downloading data from https://storage.googleapis.com/tensorflow/keras-applications/xception/xception_weights_tf_dim_ordering_tf_kernels_notop.h5\n",
            "83689472/83683744 [==============================] - 1s 0us/step\n"
          ],
          "name": "stdout"
        }
      ]
    },
    {
      "cell_type": "code",
      "metadata": {
        "id": "lgwi32YvX2_j"
      },
      "source": [
        "from sklearn.preprocessing import label_binarize\n",
        "from sklearn.metrics import auc,roc_curve\n",
        "from matplotlib import pyplot as plt"
      ],
      "execution_count": 11,
      "outputs": []
    },
    {
      "cell_type": "code",
      "metadata": {
        "id": "Zg9PJHYVX553"
      },
      "source": [
        "from keras.preprocessing.image import ImageDataGenerator\n",
        "\n",
        "train_datagen = ImageDataGenerator(  rotation_range=7,\n",
        "                                     width_shift_range=0.05,\n",
        "                                     height_shift_range=0.05,\n",
        "                                     shear_range=0.2,\n",
        "                                     zoom_range=0.45,\n",
        "                                     horizontal_flip=True)\n",
        "val_datagen = ImageDataGenerator(zoom_range=0.45)"
      ],
      "execution_count": 12,
      "outputs": []
    },
    {
      "cell_type": "code",
      "metadata": {
        "id": "Dj_-BRC36ds2",
        "colab": {
          "base_uri": "https://localhost:8080/",
          "height": 1000
        },
        "outputId": "361ec4a8-9210-4a20-c631-63cd2bb0dd66"
      },
      "source": [
        "History=[]\n",
        "Prescore=[]\n",
        "Recall=[]\n",
        "F1=[]\n",
        "Sensspeci=[]\n",
        "Roc_auc=[]\n",
        "for j,(train_idx,val_idx) in enumerate(folds):\n",
        "    print(\"Fold \"+str(j+1))\n",
        "    \n",
        "    x_train=X_dataset[train_idx]\n",
        "    y_train=Y_dataset[train_idx]\n",
        "    x_val=X_dataset[val_idx]\n",
        "    y_val=Y_dataset[val_idx]\n",
        "    history=model.fit(train_datagen.flow(x_train,y_train),batch_size=32,epochs=50,validation_data=(x_val,y_val))\n",
        "    y_predict=model.predict(x_val)\n",
        "    Y_predict=np.float32(y_predict>0.50)\n",
        "    l=len(y_val)\n",
        "    Y_predict=np.reshape(Y_predict,(l,1))\n",
        "    prescore=precision_score(y_val,Y_predict,average='binary')\n",
        "    recaller=recall_score(y_val,Y_predict,average='binary')\n",
        "    score=f1_score(y_val,Y_predict,average='binary')\n",
        "    sensitivity=sensitivity_specificity_support(y_val,Y_predict,average='binary')\n",
        "    print(\"Precision: \",prescore)\n",
        "    print(\"Recall: \",recaller)\n",
        "    print(\"F1-score \",score)\n",
        "    print(\"Sensitivity \",sensitivity)\n",
        "    History.append(history)\n",
        "    Prescore.append(prescore)\n",
        "    F1.append(score)\n",
        "    Recall.append(recaller)\n",
        "    Sensspeci.append(sensitivity)\n",
        "    fpr, tpr, thresholds = roc_curve(y_val,y_predict)\n",
        "    auc = roc_auc_score(y_val, y_predict)\n",
        "    print(\"Precision: \",prescore)\n",
        "    print(\"Recall: \",recaller)\n",
        "    print(\"F1-score \",score)\n",
        "    print(\"Sensitivity \",sensitivity)\n",
        "    print(\"AUC: \",auc)\n",
        "    plt.plot([0,1],[0,1], linestyle='--', label='No Skill')\n",
        "    plt.plot(fpr,tpr, marker='.', label='XceptionNet')\n",
        "    plt.xlabel('False Positive Rate')\n",
        "    plt.ylabel('True Positive Rate')\n",
        "    plt.legend()\n",
        "    plt.show()\n"
      ],
      "execution_count": 13,
      "outputs": [
        {
          "output_type": "stream",
          "text": [
            "Fold 1\n",
            "Epoch 1/50\n",
            "46/46 [==============================] - 109s 1s/step - loss: 0.5549 - accuracy: 0.7032 - val_loss: 1.2564 - val_accuracy: 0.7019\n",
            "Epoch 2/50\n",
            "46/46 [==============================] - 64s 1s/step - loss: 0.2122 - accuracy: 0.9226 - val_loss: 1.4292 - val_accuracy: 0.7081\n",
            "Epoch 3/50\n",
            "46/46 [==============================] - 64s 1s/step - loss: 0.1682 - accuracy: 0.9341 - val_loss: 0.8549 - val_accuracy: 0.7702\n",
            "Epoch 4/50\n",
            "46/46 [==============================] - 64s 1s/step - loss: 0.0984 - accuracy: 0.9606 - val_loss: 0.7697 - val_accuracy: 0.8199\n",
            "Epoch 5/50\n",
            "46/46 [==============================] - 64s 1s/step - loss: 0.1059 - accuracy: 0.9636 - val_loss: 0.7716 - val_accuracy: 0.8323\n",
            "Epoch 6/50\n",
            "46/46 [==============================] - 64s 1s/step - loss: 0.0605 - accuracy: 0.9801 - val_loss: 0.6150 - val_accuracy: 0.9006\n",
            "Epoch 7/50\n",
            "46/46 [==============================] - 64s 1s/step - loss: 0.0369 - accuracy: 0.9834 - val_loss: 0.7754 - val_accuracy: 0.8634\n",
            "Epoch 8/50\n",
            "46/46 [==============================] - 64s 1s/step - loss: 0.0569 - accuracy: 0.9802 - val_loss: 0.1429 - val_accuracy: 0.9752\n",
            "Epoch 9/50\n",
            "46/46 [==============================] - 64s 1s/step - loss: 0.0369 - accuracy: 0.9872 - val_loss: 0.2805 - val_accuracy: 0.9317\n",
            "Epoch 10/50\n",
            "46/46 [==============================] - 64s 1s/step - loss: 0.0394 - accuracy: 0.9873 - val_loss: 0.0897 - val_accuracy: 0.9689\n",
            "Epoch 11/50\n",
            "46/46 [==============================] - 64s 1s/step - loss: 0.0200 - accuracy: 0.9940 - val_loss: 0.1785 - val_accuracy: 0.9441\n",
            "Epoch 12/50\n",
            "46/46 [==============================] - 64s 1s/step - loss: 0.0401 - accuracy: 0.9815 - val_loss: 0.1255 - val_accuracy: 0.9689\n",
            "Epoch 13/50\n",
            "46/46 [==============================] - 64s 1s/step - loss: 0.0375 - accuracy: 0.9853 - val_loss: 0.0690 - val_accuracy: 0.9752\n",
            "Epoch 14/50\n",
            "46/46 [==============================] - 64s 1s/step - loss: 0.0481 - accuracy: 0.9823 - val_loss: 0.1007 - val_accuracy: 0.9814\n",
            "Epoch 15/50\n",
            "46/46 [==============================] - 64s 1s/step - loss: 0.0476 - accuracy: 0.9876 - val_loss: 0.1601 - val_accuracy: 0.9627\n",
            "Epoch 16/50\n",
            "46/46 [==============================] - 64s 1s/step - loss: 0.0530 - accuracy: 0.9839 - val_loss: 0.0598 - val_accuracy: 0.9689\n",
            "Epoch 17/50\n",
            "46/46 [==============================] - 64s 1s/step - loss: 0.0812 - accuracy: 0.9821 - val_loss: 0.0388 - val_accuracy: 0.9814\n",
            "Epoch 18/50\n",
            "46/46 [==============================] - 64s 1s/step - loss: 0.0139 - accuracy: 0.9961 - val_loss: 0.0407 - val_accuracy: 0.9814\n",
            "Epoch 19/50\n",
            "46/46 [==============================] - 65s 1s/step - loss: 0.0060 - accuracy: 0.9989 - val_loss: 0.4194 - val_accuracy: 0.9130\n",
            "Epoch 20/50\n",
            "46/46 [==============================] - 64s 1s/step - loss: 0.0232 - accuracy: 0.9921 - val_loss: 0.2116 - val_accuracy: 0.9627\n",
            "Epoch 21/50\n",
            "46/46 [==============================] - 64s 1s/step - loss: 0.0175 - accuracy: 0.9944 - val_loss: 0.1065 - val_accuracy: 0.9689\n",
            "Epoch 22/50\n",
            "46/46 [==============================] - 64s 1s/step - loss: 0.0037 - accuracy: 0.9996 - val_loss: 0.1222 - val_accuracy: 0.9627\n",
            "Epoch 23/50\n",
            "46/46 [==============================] - 65s 1s/step - loss: 0.0197 - accuracy: 0.9942 - val_loss: 0.0628 - val_accuracy: 0.9814\n",
            "Epoch 24/50\n",
            "46/46 [==============================] - 65s 1s/step - loss: 0.0183 - accuracy: 0.9944 - val_loss: 0.1011 - val_accuracy: 0.9752\n",
            "Epoch 25/50\n",
            "46/46 [==============================] - 65s 1s/step - loss: 0.0226 - accuracy: 0.9935 - val_loss: 0.1930 - val_accuracy: 0.9441\n",
            "Epoch 26/50\n",
            "46/46 [==============================] - 65s 1s/step - loss: 0.0056 - accuracy: 0.9987 - val_loss: 0.3118 - val_accuracy: 0.8944\n",
            "Epoch 27/50\n",
            "46/46 [==============================] - 64s 1s/step - loss: 0.0067 - accuracy: 0.9981 - val_loss: 0.0539 - val_accuracy: 0.9814\n",
            "Epoch 28/50\n",
            "46/46 [==============================] - 65s 1s/step - loss: 0.0183 - accuracy: 0.9971 - val_loss: 0.0339 - val_accuracy: 0.9876\n",
            "Epoch 29/50\n",
            "46/46 [==============================] - 65s 1s/step - loss: 0.0069 - accuracy: 0.9968 - val_loss: 0.0513 - val_accuracy: 0.9876\n",
            "Epoch 30/50\n",
            "46/46 [==============================] - 65s 1s/step - loss: 0.0207 - accuracy: 0.9942 - val_loss: 0.0934 - val_accuracy: 0.9814\n",
            "Epoch 31/50\n",
            "46/46 [==============================] - 65s 1s/step - loss: 0.0137 - accuracy: 0.9928 - val_loss: 0.0624 - val_accuracy: 0.9876\n",
            "Epoch 32/50\n",
            "46/46 [==============================] - 65s 1s/step - loss: 0.0105 - accuracy: 0.9985 - val_loss: 0.1363 - val_accuracy: 0.9814\n",
            "Epoch 33/50\n",
            "46/46 [==============================] - 64s 1s/step - loss: 0.0243 - accuracy: 0.9945 - val_loss: 0.0284 - val_accuracy: 0.9938\n",
            "Epoch 34/50\n",
            "46/46 [==============================] - 64s 1s/step - loss: 0.0073 - accuracy: 0.9970 - val_loss: 0.0591 - val_accuracy: 0.9876\n",
            "Epoch 35/50\n",
            "46/46 [==============================] - 65s 1s/step - loss: 0.0087 - accuracy: 0.9966 - val_loss: 0.0319 - val_accuracy: 0.9876\n",
            "Epoch 36/50\n",
            "46/46 [==============================] - 64s 1s/step - loss: 0.0027 - accuracy: 0.9988 - val_loss: 0.0400 - val_accuracy: 0.9876\n",
            "Epoch 37/50\n",
            "46/46 [==============================] - 64s 1s/step - loss: 0.0593 - accuracy: 0.9904 - val_loss: 0.2562 - val_accuracy: 0.9193\n",
            "Epoch 38/50\n",
            "46/46 [==============================] - 64s 1s/step - loss: 0.0045 - accuracy: 0.9985 - val_loss: 0.0775 - val_accuracy: 0.9627\n",
            "Epoch 39/50\n",
            "46/46 [==============================] - 64s 1s/step - loss: 0.0013 - accuracy: 0.9995 - val_loss: 0.0438 - val_accuracy: 0.9752\n",
            "Epoch 40/50\n",
            "46/46 [==============================] - 65s 1s/step - loss: 0.0143 - accuracy: 0.9965 - val_loss: 0.0220 - val_accuracy: 0.9814\n",
            "Epoch 41/50\n",
            "46/46 [==============================] - 65s 1s/step - loss: 0.0107 - accuracy: 0.9980 - val_loss: 0.0437 - val_accuracy: 0.9876\n",
            "Epoch 42/50\n",
            "46/46 [==============================] - 64s 1s/step - loss: 0.0083 - accuracy: 0.9976 - val_loss: 0.0119 - val_accuracy: 0.9938\n",
            "Epoch 43/50\n",
            "46/46 [==============================] - 65s 1s/step - loss: 0.0072 - accuracy: 0.9953 - val_loss: 0.0121 - val_accuracy: 0.9938\n",
            "Epoch 44/50\n",
            "46/46 [==============================] - 64s 1s/step - loss: 0.0219 - accuracy: 0.9901 - val_loss: 0.0259 - val_accuracy: 0.9876\n",
            "Epoch 45/50\n",
            "46/46 [==============================] - 65s 1s/step - loss: 0.0076 - accuracy: 0.9972 - val_loss: 0.0155 - val_accuracy: 0.9876\n",
            "Epoch 46/50\n",
            "46/46 [==============================] - 64s 1s/step - loss: 0.0040 - accuracy: 0.9979 - val_loss: 0.0527 - val_accuracy: 0.9876\n",
            "Epoch 47/50\n",
            "46/46 [==============================] - 65s 1s/step - loss: 3.7689e-04 - accuracy: 1.0000 - val_loss: 0.0491 - val_accuracy: 0.9814\n",
            "Epoch 48/50\n",
            "46/46 [==============================] - 65s 1s/step - loss: 0.0018 - accuracy: 0.9997 - val_loss: 0.0633 - val_accuracy: 0.9938\n",
            "Epoch 49/50\n",
            "46/46 [==============================] - 64s 1s/step - loss: 0.0044 - accuracy: 0.9990 - val_loss: 0.0871 - val_accuracy: 0.9938\n",
            "Epoch 50/50\n",
            "46/46 [==============================] - 64s 1s/step - loss: 0.0582 - accuracy: 0.9938 - val_loss: 0.0230 - val_accuracy: 0.9938\n",
            "Precision:  0.9911504424778761\n",
            "Recall:  1.0\n",
            "F1-score  0.9955555555555555\n",
            "Sensitivity  (1.0, 0.9795918367346939, None)\n",
            "Precision:  0.9911504424778761\n",
            "Recall:  1.0\n",
            "F1-score  0.9955555555555555\n",
            "Sensitivity  (1.0, 0.9795918367346939, None)\n",
            "AUC:  0.9998177842565598\n"
          ],
          "name": "stdout"
        },
        {
          "output_type": "display_data",
          "data": {
            "image/png": "[encoded data removed]",
            "text/plain": [
              "<Figure size 432x288 with 1 Axes>"
            ]
          },
          "metadata": {
            "tags": [],
            "needs_background": "light"
          }
        },
        {
          "output_type": "stream",
          "text": [
            "Fold 2\n",
            "Epoch 1/50\n",
            "46/46 [==============================] - 65s 1s/step - loss: 0.0143 - accuracy: 0.9959 - val_loss: 3.3261e-04 - val_accuracy: 1.0000\n",
            "Epoch 2/50\n",
            "46/46 [==============================] - 64s 1s/step - loss: 0.0112 - accuracy: 0.9986 - val_loss: 0.0031 - val_accuracy: 1.0000\n",
            "Epoch 3/50\n",
            "46/46 [==============================] - 65s 1s/step - loss: 0.0030 - accuracy: 0.9993 - val_loss: 0.0103 - val_accuracy: 0.9938\n",
            "Epoch 4/50\n",
            "46/46 [==============================] - 65s 1s/step - loss: 0.0191 - accuracy: 0.9965 - val_loss: 0.0257 - val_accuracy: 0.9938\n",
            "Epoch 5/50\n",
            "46/46 [==============================] - 65s 1s/step - loss: 0.0158 - accuracy: 0.9945 - val_loss: 0.0178 - val_accuracy: 0.9938\n",
            "Epoch 6/50\n",
            "46/46 [==============================] - 64s 1s/step - loss: 0.0078 - accuracy: 0.9979 - val_loss: 3.4257e-06 - val_accuracy: 1.0000\n",
            "Epoch 7/50\n",
            "46/46 [==============================] - 64s 1s/step - loss: 0.0036 - accuracy: 0.9993 - val_loss: 5.6363e-04 - val_accuracy: 1.0000\n",
            "Epoch 8/50\n",
            "46/46 [==============================] - 64s 1s/step - loss: 0.0154 - accuracy: 0.9952 - val_loss: 0.0233 - val_accuracy: 0.9876\n",
            "Epoch 9/50\n",
            "46/46 [==============================] - 64s 1s/step - loss: 0.0011 - accuracy: 0.9993 - val_loss: 0.0049 - val_accuracy: 1.0000\n",
            "Epoch 10/50\n",
            "46/46 [==============================] - 65s 1s/step - loss: 0.0057 - accuracy: 0.9986 - val_loss: 1.3215e-05 - val_accuracy: 1.0000\n",
            "Epoch 11/50\n",
            "46/46 [==============================] - 65s 1s/step - loss: 0.0323 - accuracy: 0.9945 - val_loss: 0.0207 - val_accuracy: 0.9876\n",
            "Epoch 12/50\n",
            "46/46 [==============================] - 64s 1s/step - loss: 0.0099 - accuracy: 0.9965 - val_loss: 0.0735 - val_accuracy: 0.9752\n",
            "Epoch 13/50\n",
            "46/46 [==============================] - 64s 1s/step - loss: 0.0051 - accuracy: 0.9979 - val_loss: 0.0477 - val_accuracy: 0.9814\n",
            "Epoch 14/50\n",
            "46/46 [==============================] - 64s 1s/step - loss: 0.0024 - accuracy: 0.9993 - val_loss: 4.1330e-04 - val_accuracy: 1.0000\n",
            "Epoch 15/50\n",
            "46/46 [==============================] - 65s 1s/step - loss: 0.0242 - accuracy: 0.9972 - val_loss: 1.2293e-06 - val_accuracy: 1.0000\n",
            "Epoch 16/50\n",
            "46/46 [==============================] - 65s 1s/step - loss: 0.0085 - accuracy: 0.9979 - val_loss: 4.0494e-06 - val_accuracy: 1.0000\n",
            "Epoch 17/50\n",
            "46/46 [==============================] - 64s 1s/step - loss: 0.0040 - accuracy: 0.9979 - val_loss: 4.0827e-06 - val_accuracy: 1.0000\n",
            "Epoch 18/50\n",
            "46/46 [==============================] - 64s 1s/step - loss: 0.0054 - accuracy: 0.9972 - val_loss: 1.3595e-05 - val_accuracy: 1.0000\n",
            "Epoch 19/50\n",
            "46/46 [==============================] - 64s 1s/step - loss: 0.0016 - accuracy: 0.9986 - val_loss: 1.0645e-05 - val_accuracy: 1.0000\n",
            "Epoch 20/50\n",
            "46/46 [==============================] - 64s 1s/step - loss: 0.0068 - accuracy: 0.9979 - val_loss: 1.4580e-04 - val_accuracy: 1.0000\n",
            "Epoch 21/50\n",
            "46/46 [==============================] - 65s 1s/step - loss: 1.4395e-04 - accuracy: 1.0000 - val_loss: 6.8246e-04 - val_accuracy: 1.0000\n",
            "Epoch 22/50\n",
            "46/46 [==============================] - 64s 1s/step - loss: 0.0049 - accuracy: 0.9993 - val_loss: 0.0407 - val_accuracy: 0.9938\n",
            "Epoch 23/50\n",
            "46/46 [==============================] - 65s 1s/step - loss: 0.0067 - accuracy: 0.9979 - val_loss: 0.0562 - val_accuracy: 0.9814\n",
            "Epoch 24/50\n",
            "46/46 [==============================] - 65s 1s/step - loss: 0.0104 - accuracy: 0.9972 - val_loss: 3.1491e-05 - val_accuracy: 1.0000\n",
            "Epoch 25/50\n",
            "46/46 [==============================] - 65s 1s/step - loss: 0.0079 - accuracy: 0.9979 - val_loss: 1.0173e-04 - val_accuracy: 1.0000\n",
            "Epoch 26/50\n",
            "46/46 [==============================] - 65s 1s/step - loss: 0.0109 - accuracy: 0.9979 - val_loss: 1.0022e-06 - val_accuracy: 1.0000\n",
            "Epoch 27/50\n",
            "46/46 [==============================] - 64s 1s/step - loss: 1.5851e-04 - accuracy: 1.0000 - val_loss: 3.3873e-07 - val_accuracy: 1.0000\n",
            "Epoch 28/50\n",
            "46/46 [==============================] - 65s 1s/step - loss: 0.0042 - accuracy: 0.9979 - val_loss: 5.7220e-04 - val_accuracy: 1.0000\n",
            "Epoch 29/50\n",
            "46/46 [==============================] - 64s 1s/step - loss: 0.0184 - accuracy: 0.9972 - val_loss: 9.1661e-07 - val_accuracy: 1.0000\n",
            "Epoch 30/50\n",
            "46/46 [==============================] - 64s 1s/step - loss: 4.4399e-04 - accuracy: 1.0000 - val_loss: 2.8757e-07 - val_accuracy: 1.0000\n",
            "Epoch 31/50\n",
            "46/46 [==============================] - 64s 1s/step - loss: 7.4488e-04 - accuracy: 1.0000 - val_loss: 8.1002e-06 - val_accuracy: 1.0000\n",
            "Epoch 32/50\n",
            "46/46 [==============================] - 65s 1s/step - loss: 0.0289 - accuracy: 0.9959 - val_loss: 6.6548e-06 - val_accuracy: 1.0000\n",
            "Epoch 33/50\n",
            "46/46 [==============================] - 64s 1s/step - loss: 0.0062 - accuracy: 0.9979 - val_loss: 2.9686e-06 - val_accuracy: 1.0000\n",
            "Epoch 34/50\n",
            "46/46 [==============================] - 65s 1s/step - loss: 0.0013 - accuracy: 0.9993 - val_loss: 4.2236e-05 - val_accuracy: 1.0000\n",
            "Epoch 35/50\n",
            "46/46 [==============================] - 64s 1s/step - loss: 0.0045 - accuracy: 0.9986 - val_loss: 1.9976e-05 - val_accuracy: 1.0000\n",
            "Epoch 36/50\n",
            "46/46 [==============================] - 64s 1s/step - loss: 0.0295 - accuracy: 0.9986 - val_loss: 7.6999e-07 - val_accuracy: 1.0000\n",
            "Epoch 37/50\n",
            "46/46 [==============================] - 65s 1s/step - loss: 0.0037 - accuracy: 0.9986 - val_loss: 1.9820e-05 - val_accuracy: 1.0000\n",
            "Epoch 38/50\n",
            "46/46 [==============================] - 64s 1s/step - loss: 0.0033 - accuracy: 0.9986 - val_loss: 7.6829e-08 - val_accuracy: 1.0000\n",
            "Epoch 39/50\n",
            "46/46 [==============================] - 64s 1s/step - loss: 2.7756e-05 - accuracy: 1.0000 - val_loss: 8.2423e-06 - val_accuracy: 1.0000\n",
            "Epoch 40/50\n",
            "46/46 [==============================] - 65s 1s/step - loss: 0.0143 - accuracy: 0.9959 - val_loss: 9.6118e-05 - val_accuracy: 1.0000\n",
            "Epoch 41/50\n",
            "46/46 [==============================] - 65s 1s/step - loss: 0.0225 - accuracy: 0.9979 - val_loss: 6.4325e-04 - val_accuracy: 1.0000\n",
            "Epoch 42/50\n",
            "46/46 [==============================] - 64s 1s/step - loss: 0.0082 - accuracy: 0.9972 - val_loss: 2.1865e-06 - val_accuracy: 1.0000\n",
            "Epoch 43/50\n",
            "46/46 [==============================] - 64s 1s/step - loss: 8.1348e-04 - accuracy: 1.0000 - val_loss: 6.4100e-06 - val_accuracy: 1.0000\n",
            "Epoch 44/50\n",
            "46/46 [==============================] - 65s 1s/step - loss: 0.0020 - accuracy: 0.9993 - val_loss: 8.7569e-07 - val_accuracy: 1.0000\n",
            "Epoch 45/50\n",
            "46/46 [==============================] - 64s 1s/step - loss: 0.0033 - accuracy: 0.9986 - val_loss: 2.0794e-07 - val_accuracy: 1.0000\n",
            "Epoch 46/50\n",
            "46/46 [==============================] - 64s 1s/step - loss: 0.0167 - accuracy: 0.9965 - val_loss: 0.0191 - val_accuracy: 0.9938\n",
            "Epoch 47/50\n",
            "46/46 [==============================] - 64s 1s/step - loss: 0.0134 - accuracy: 0.9986 - val_loss: 3.1355e-05 - val_accuracy: 1.0000\n",
            "Epoch 48/50\n",
            "46/46 [==============================] - 64s 1s/step - loss: 8.7445e-04 - accuracy: 1.0000 - val_loss: 1.4241e-04 - val_accuracy: 1.0000\n",
            "Epoch 49/50\n",
            "46/46 [==============================] - 64s 1s/step - loss: 0.0047 - accuracy: 0.9993 - val_loss: 3.4920e-05 - val_accuracy: 1.0000\n",
            "Epoch 50/50\n",
            "46/46 [==============================] - 64s 1s/step - loss: 3.5353e-04 - accuracy: 1.0000 - val_loss: 2.0584e-05 - val_accuracy: 1.0000\n",
            "Precision:  1.0\n",
            "Recall:  1.0\n",
            "F1-score  1.0\n",
            "Sensitivity  (1.0, 1.0, None)\n",
            "Precision:  1.0\n",
            "Recall:  1.0\n",
            "F1-score  1.0\n",
            "Sensitivity  (1.0, 1.0, None)\n",
            "AUC:  1.0\n"
          ],
          "name": "stdout"
        },
        {
          "output_type": "display_data",
          "data": {
            "image/png": "[encoded data removed]",
            "text/plain": [
              "<Figure size 432x288 with 1 Axes>"
            ]
          },
          "metadata": {
            "tags": [],
            "needs_background": "light"
          }
        },
        {
          "output_type": "stream",
          "text": [
            "Fold 3\n",
            "Epoch 1/50\n",
            "46/46 [==============================] - 64s 1s/step - loss: 4.0726e-04 - accuracy: 1.0000 - val_loss: 2.4476e-10 - val_accuracy: 1.0000\n",
            "Epoch 2/50\n",
            "46/46 [==============================] - 64s 1s/step - loss: 0.0018 - accuracy: 0.9986 - val_loss: 2.1370e-10 - val_accuracy: 1.0000\n",
            "Epoch 3/50\n",
            "46/46 [==============================] - 64s 1s/step - loss: 0.0069 - accuracy: 0.9986 - val_loss: 6.3007e-08 - val_accuracy: 1.0000\n",
            "Epoch 4/50\n",
            "46/46 [==============================] - 64s 1s/step - loss: 0.0017 - accuracy: 0.9993 - val_loss: 4.1247e-11 - val_accuracy: 1.0000\n",
            "Epoch 5/50\n",
            "46/46 [==============================] - 64s 1s/step - loss: 0.0071 - accuracy: 0.9972 - val_loss: 1.1856e-09 - val_accuracy: 1.0000\n",
            "Epoch 6/50\n",
            "46/46 [==============================] - 64s 1s/step - loss: 0.0077 - accuracy: 0.9979 - val_loss: 1.7235e-10 - val_accuracy: 1.0000\n",
            "Epoch 7/50\n",
            "46/46 [==============================] - 64s 1s/step - loss: 0.0039 - accuracy: 0.9993 - val_loss: 7.3974e-10 - val_accuracy: 1.0000\n",
            "Epoch 8/50\n",
            "46/46 [==============================] - 64s 1s/step - loss: 0.0014 - accuracy: 0.9993 - val_loss: 1.4462e-09 - val_accuracy: 1.0000\n",
            "Epoch 9/50\n",
            "46/46 [==============================] - 64s 1s/step - loss: 0.0027 - accuracy: 0.9993 - val_loss: 4.4996e-06 - val_accuracy: 1.0000\n",
            "Epoch 10/50\n",
            "46/46 [==============================] - 65s 1s/step - loss: 0.0024 - accuracy: 0.9993 - val_loss: 7.5043e-10 - val_accuracy: 1.0000\n",
            "Epoch 11/50\n",
            "46/46 [==============================] - 65s 1s/step - loss: 0.0107 - accuracy: 0.9986 - val_loss: 1.7782e-08 - val_accuracy: 1.0000\n",
            "Epoch 12/50\n",
            "46/46 [==============================] - 64s 1s/step - loss: 1.0746e-04 - accuracy: 1.0000 - val_loss: 7.8851e-09 - val_accuracy: 1.0000\n",
            "Epoch 13/50\n",
            "46/46 [==============================] - 64s 1s/step - loss: 0.0113 - accuracy: 0.9972 - val_loss: 1.4785e-08 - val_accuracy: 1.0000\n",
            "Epoch 14/50\n",
            "46/46 [==============================] - 64s 1s/step - loss: 0.0015 - accuracy: 0.9993 - val_loss: 3.8396e-08 - val_accuracy: 1.0000\n",
            "Epoch 15/50\n",
            "46/46 [==============================] - 64s 1s/step - loss: 0.0132 - accuracy: 0.9952 - val_loss: 2.7752e-07 - val_accuracy: 1.0000\n",
            "Epoch 16/50\n",
            "46/46 [==============================] - 65s 1s/step - loss: 0.0047 - accuracy: 0.9993 - val_loss: 1.6038e-06 - val_accuracy: 1.0000\n",
            "Epoch 17/50\n",
            "46/46 [==============================] - 64s 1s/step - loss: 0.0013 - accuracy: 0.9993 - val_loss: 2.7486e-06 - val_accuracy: 1.0000\n",
            "Epoch 18/50\n",
            "46/46 [==============================] - 64s 1s/step - loss: 0.0072 - accuracy: 0.9979 - val_loss: 6.0570e-05 - val_accuracy: 1.0000\n",
            "Epoch 19/50\n",
            "46/46 [==============================] - 65s 1s/step - loss: 0.0140 - accuracy: 0.9972 - val_loss: 1.2129e-06 - val_accuracy: 1.0000\n",
            "Epoch 20/50\n",
            "46/46 [==============================] - 64s 1s/step - loss: 9.8473e-04 - accuracy: 0.9993 - val_loss: 1.8849e-07 - val_accuracy: 1.0000\n",
            "Epoch 21/50\n",
            "46/46 [==============================] - 64s 1s/step - loss: 0.0038 - accuracy: 0.9986 - val_loss: 2.9224e-08 - val_accuracy: 1.0000\n",
            "Epoch 22/50\n",
            "46/46 [==============================] - 64s 1s/step - loss: 8.3726e-05 - accuracy: 1.0000 - val_loss: 1.0928e-09 - val_accuracy: 1.0000\n",
            "Epoch 23/50\n",
            "46/46 [==============================] - 64s 1s/step - loss: 0.0040 - accuracy: 0.9993 - val_loss: 3.8069e-11 - val_accuracy: 1.0000\n",
            "Epoch 24/50\n",
            "46/46 [==============================] - 64s 1s/step - loss: 0.0010 - accuracy: 0.9993 - val_loss: 3.0183e-09 - val_accuracy: 1.0000\n",
            "Epoch 25/50\n",
            "46/46 [==============================] - 64s 1s/step - loss: 0.0143 - accuracy: 0.9979 - val_loss: 1.9581e-08 - val_accuracy: 1.0000\n",
            "Epoch 26/50\n",
            "46/46 [==============================] - 64s 1s/step - loss: 0.0015 - accuracy: 0.9993 - val_loss: 2.3469e-08 - val_accuracy: 1.0000\n",
            "Epoch 27/50\n",
            "46/46 [==============================] - 64s 1s/step - loss: 0.0050 - accuracy: 0.9986 - val_loss: 1.5449e-08 - val_accuracy: 1.0000\n",
            "Epoch 28/50\n",
            "46/46 [==============================] - 64s 1s/step - loss: 2.9664e-04 - accuracy: 1.0000 - val_loss: 2.2291e-08 - val_accuracy: 1.0000\n",
            "Epoch 29/50\n",
            "46/46 [==============================] - 64s 1s/step - loss: 0.0035 - accuracy: 0.9993 - val_loss: 1.6355e-09 - val_accuracy: 1.0000\n",
            "Epoch 30/50\n",
            "46/46 [==============================] - 64s 1s/step - loss: 0.0028 - accuracy: 0.9993 - val_loss: 1.9467e-07 - val_accuracy: 1.0000\n",
            "Epoch 31/50\n",
            "46/46 [==============================] - 64s 1s/step - loss: 3.5425e-04 - accuracy: 1.0000 - val_loss: 5.6523e-09 - val_accuracy: 1.0000\n",
            "Epoch 32/50\n",
            "46/46 [==============================] - 64s 1s/step - loss: 0.0093 - accuracy: 0.9993 - val_loss: 4.2029e-06 - val_accuracy: 1.0000\n",
            "Epoch 33/50\n",
            "46/46 [==============================] - 64s 1s/step - loss: 0.0027 - accuracy: 0.9986 - val_loss: 3.6226e-09 - val_accuracy: 1.0000\n",
            "Epoch 34/50\n",
            "46/46 [==============================] - 64s 1s/step - loss: 0.0027 - accuracy: 0.9993 - val_loss: 3.1616e-08 - val_accuracy: 1.0000\n",
            "Epoch 35/50\n",
            "46/46 [==============================] - 64s 1s/step - loss: 0.0018 - accuracy: 0.9993 - val_loss: 2.6147e-09 - val_accuracy: 1.0000\n",
            "Epoch 36/50\n",
            "46/46 [==============================] - 64s 1s/step - loss: 2.9464e-05 - accuracy: 1.0000 - val_loss: 4.3340e-10 - val_accuracy: 1.0000\n",
            "Epoch 37/50\n",
            "46/46 [==============================] - 64s 1s/step - loss: 2.5419e-06 - accuracy: 1.0000 - val_loss: 6.4036e-08 - val_accuracy: 1.0000\n",
            "Epoch 38/50\n",
            "46/46 [==============================] - 64s 1s/step - loss: 0.0138 - accuracy: 0.9979 - val_loss: 1.7475e-04 - val_accuracy: 1.0000\n",
            "Epoch 39/50\n",
            "46/46 [==============================] - 64s 1s/step - loss: 0.0061 - accuracy: 0.9993 - val_loss: 3.6121e-05 - val_accuracy: 1.0000\n",
            "Epoch 40/50\n",
            "46/46 [==============================] - 64s 1s/step - loss: 0.0025 - accuracy: 0.9993 - val_loss: 2.0347e-04 - val_accuracy: 1.0000\n",
            "Epoch 41/50\n",
            "46/46 [==============================] - 64s 1s/step - loss: 1.0068e-04 - accuracy: 1.0000 - val_loss: 2.9768e-07 - val_accuracy: 1.0000\n",
            "Epoch 42/50\n",
            "46/46 [==============================] - 64s 1s/step - loss: 1.0334e-07 - accuracy: 1.0000 - val_loss: 5.3608e-09 - val_accuracy: 1.0000\n",
            "Epoch 43/50\n",
            "46/46 [==============================] - 64s 1s/step - loss: 3.4874e-07 - accuracy: 1.0000 - val_loss: 1.2175e-09 - val_accuracy: 1.0000\n",
            "Epoch 44/50\n",
            "46/46 [==============================] - 64s 1s/step - loss: 0.0310 - accuracy: 0.9959 - val_loss: 1.4849e-15 - val_accuracy: 1.0000\n",
            "Epoch 45/50\n",
            "46/46 [==============================] - 64s 1s/step - loss: 0.0011 - accuracy: 0.9993 - val_loss: 3.7304e-11 - val_accuracy: 1.0000\n",
            "Epoch 46/50\n",
            "46/46 [==============================] - 64s 1s/step - loss: 4.6854e-05 - accuracy: 1.0000 - val_loss: 6.6163e-12 - val_accuracy: 1.0000\n",
            "Epoch 47/50\n",
            "46/46 [==============================] - 64s 1s/step - loss: 6.7266e-04 - accuracy: 0.9993 - val_loss: 0.0025 - val_accuracy: 1.0000\n",
            "Epoch 48/50\n",
            "46/46 [==============================] - 64s 1s/step - loss: 0.0013 - accuracy: 0.9993 - val_loss: 9.4062e-07 - val_accuracy: 1.0000\n",
            "Epoch 49/50\n",
            "46/46 [==============================] - 64s 1s/step - loss: 0.0018 - accuracy: 0.9986 - val_loss: 9.3904e-07 - val_accuracy: 1.0000\n",
            "Epoch 50/50\n",
            "46/46 [==============================] - 64s 1s/step - loss: 0.0330 - accuracy: 0.9959 - val_loss: 0.0018 - val_accuracy: 1.0000\n",
            "Precision:  1.0\n",
            "Recall:  1.0\n",
            "F1-score  1.0\n",
            "Sensitivity  (1.0, 1.0, None)\n",
            "Precision:  1.0\n",
            "Recall:  1.0\n",
            "F1-score  1.0\n",
            "Sensitivity  (1.0, 1.0, None)\n",
            "AUC:  1.0\n"
          ],
          "name": "stdout"
        },
        {
          "output_type": "display_data",
          "data": {
            "image/png": "[encoded data removed]",
            "text/plain": [
              "<Figure size 432x288 with 1 Axes>"
            ]
          },
          "metadata": {
            "tags": [],
            "needs_background": "light"
          }
        },
        {
          "output_type": "stream",
          "text": [
            "Fold 4\n",
            "Epoch 1/50\n",
            "46/46 [==============================] - 65s 1s/step - loss: 0.0026 - accuracy: 0.9986 - val_loss: 1.2540e-05 - val_accuracy: 1.0000\n",
            "Epoch 2/50\n",
            "46/46 [==============================] - 64s 1s/step - loss: 5.5909e-04 - accuracy: 1.0000 - val_loss: 4.0426e-05 - val_accuracy: 1.0000\n",
            "Epoch 3/50\n",
            "46/46 [==============================] - 64s 1s/step - loss: 0.0126 - accuracy: 0.9972 - val_loss: 0.0468 - val_accuracy: 0.9876\n",
            "Epoch 4/50\n",
            "46/46 [==============================] - 64s 1s/step - loss: 0.0015 - accuracy: 0.9993 - val_loss: 2.3781e-06 - val_accuracy: 1.0000\n",
            "Epoch 5/50\n",
            "46/46 [==============================] - 64s 1s/step - loss: 1.8467e-04 - accuracy: 1.0000 - val_loss: 3.3209e-07 - val_accuracy: 1.0000\n",
            "Epoch 6/50\n",
            "46/46 [==============================] - 64s 1s/step - loss: 0.0060 - accuracy: 0.9986 - val_loss: 7.9923e-06 - val_accuracy: 1.0000\n",
            "Epoch 7/50\n",
            "46/46 [==============================] - 64s 1s/step - loss: 0.0063 - accuracy: 0.9979 - val_loss: 1.4590e-05 - val_accuracy: 1.0000\n",
            "Epoch 8/50\n",
            "46/46 [==============================] - 64s 1s/step - loss: 5.3661e-04 - accuracy: 1.0000 - val_loss: 2.5021e-09 - val_accuracy: 1.0000\n",
            "Epoch 9/50\n",
            "46/46 [==============================] - 64s 1s/step - loss: 0.0016 - accuracy: 0.9986 - val_loss: 1.5793e-04 - val_accuracy: 1.0000\n",
            "Epoch 10/50\n",
            "46/46 [==============================] - 64s 1s/step - loss: 5.8216e-04 - accuracy: 1.0000 - val_loss: 4.4377e-09 - val_accuracy: 1.0000\n",
            "Epoch 11/50\n",
            "46/46 [==============================] - 64s 1s/step - loss: 9.5376e-05 - accuracy: 1.0000 - val_loss: 3.6483e-05 - val_accuracy: 1.0000\n",
            "Epoch 12/50\n",
            "46/46 [==============================] - 64s 1s/step - loss: 0.0114 - accuracy: 0.9965 - val_loss: 0.0070 - val_accuracy: 0.9938\n",
            "Epoch 13/50\n",
            "46/46 [==============================] - 64s 1s/step - loss: 0.0046 - accuracy: 0.9979 - val_loss: 3.8188e-04 - val_accuracy: 1.0000\n",
            "Epoch 14/50\n",
            "46/46 [==============================] - 64s 1s/step - loss: 0.0115 - accuracy: 0.9986 - val_loss: 1.3314e-07 - val_accuracy: 1.0000\n",
            "Epoch 15/50\n",
            "46/46 [==============================] - 64s 1s/step - loss: 0.0032 - accuracy: 0.9986 - val_loss: 0.0246 - val_accuracy: 0.9938\n",
            "Epoch 16/50\n",
            "46/46 [==============================] - 64s 1s/step - loss: 0.0041 - accuracy: 0.9986 - val_loss: 0.0715 - val_accuracy: 0.9938\n",
            "Epoch 17/50\n",
            "46/46 [==============================] - 64s 1s/step - loss: 0.0013 - accuracy: 1.0000 - val_loss: 6.4675e-05 - val_accuracy: 1.0000\n",
            "Epoch 18/50\n",
            "46/46 [==============================] - 64s 1s/step - loss: 0.0107 - accuracy: 0.9993 - val_loss: 6.5877e-08 - val_accuracy: 1.0000\n",
            "Epoch 19/50\n",
            "46/46 [==============================] - 64s 1s/step - loss: 8.8196e-05 - accuracy: 1.0000 - val_loss: 1.6201e-09 - val_accuracy: 1.0000\n",
            "Epoch 20/50\n",
            "46/46 [==============================] - 64s 1s/step - loss: 0.0887 - accuracy: 0.9972 - val_loss: 7.9345e-08 - val_accuracy: 1.0000\n",
            "Epoch 21/50\n",
            "46/46 [==============================] - 64s 1s/step - loss: 0.0051 - accuracy: 0.9986 - val_loss: 1.5572e-06 - val_accuracy: 1.0000\n",
            "Epoch 22/50\n",
            "46/46 [==============================] - 64s 1s/step - loss: 0.0040 - accuracy: 0.9979 - val_loss: 3.5935e-07 - val_accuracy: 1.0000\n",
            "Epoch 23/50\n",
            "46/46 [==============================] - 64s 1s/step - loss: 1.1134e-04 - accuracy: 1.0000 - val_loss: 4.3206e-07 - val_accuracy: 1.0000\n",
            "Epoch 24/50\n",
            "46/46 [==============================] - 64s 1s/step - loss: 0.0016 - accuracy: 0.9993 - val_loss: 5.8108e-08 - val_accuracy: 1.0000\n",
            "Epoch 25/50\n",
            "46/46 [==============================] - 64s 1s/step - loss: 4.1442e-04 - accuracy: 1.0000 - val_loss: 5.6927e-05 - val_accuracy: 1.0000\n",
            "Epoch 26/50\n",
            "46/46 [==============================] - 64s 1s/step - loss: 5.3617e-04 - accuracy: 1.0000 - val_loss: 1.4512e-07 - val_accuracy: 1.0000\n",
            "Epoch 27/50\n",
            "46/46 [==============================] - 64s 1s/step - loss: 0.0027 - accuracy: 0.9986 - val_loss: 1.2241e-06 - val_accuracy: 1.0000\n",
            "Epoch 28/50\n",
            "46/46 [==============================] - 64s 1s/step - loss: 0.0169 - accuracy: 0.9972 - val_loss: 2.0631e-06 - val_accuracy: 1.0000\n",
            "Epoch 29/50\n",
            "46/46 [==============================] - 64s 1s/step - loss: 7.5033e-04 - accuracy: 0.9993 - val_loss: 2.6914e-08 - val_accuracy: 1.0000\n",
            "Epoch 30/50\n",
            "46/46 [==============================] - 64s 1s/step - loss: 0.0018 - accuracy: 0.9993 - val_loss: 4.0410e-07 - val_accuracy: 1.0000\n",
            "Epoch 31/50\n",
            "46/46 [==============================] - 64s 1s/step - loss: 9.3133e-04 - accuracy: 0.9993 - val_loss: 3.3525e-09 - val_accuracy: 1.0000\n",
            "Epoch 32/50\n",
            "46/46 [==============================] - 64s 1s/step - loss: 5.2658e-04 - accuracy: 0.9993 - val_loss: 3.1276e-07 - val_accuracy: 1.0000\n",
            "Epoch 33/50\n",
            "46/46 [==============================] - 64s 1s/step - loss: 1.5329e-04 - accuracy: 1.0000 - val_loss: 8.9849e-06 - val_accuracy: 1.0000\n",
            "Epoch 34/50\n",
            "46/46 [==============================] - 64s 1s/step - loss: 2.0837e-05 - accuracy: 1.0000 - val_loss: 0.0272 - val_accuracy: 0.9938\n",
            "Epoch 35/50\n",
            "46/46 [==============================] - 64s 1s/step - loss: 1.0650e-04 - accuracy: 1.0000 - val_loss: 6.7382e-11 - val_accuracy: 1.0000\n",
            "Epoch 36/50\n",
            "46/46 [==============================] - 64s 1s/step - loss: 0.0901 - accuracy: 0.9993 - val_loss: 1.3283e-10 - val_accuracy: 1.0000\n",
            "Epoch 37/50\n",
            "46/46 [==============================] - 64s 1s/step - loss: 1.2809e-04 - accuracy: 1.0000 - val_loss: 1.6485e-11 - val_accuracy: 1.0000\n",
            "Epoch 38/50\n",
            "46/46 [==============================] - 64s 1s/step - loss: 0.0016 - accuracy: 0.9993 - val_loss: 1.5127e-09 - val_accuracy: 1.0000\n",
            "Epoch 39/50\n",
            "46/46 [==============================] - 64s 1s/step - loss: 0.0030 - accuracy: 0.9993 - val_loss: 7.9019e-10 - val_accuracy: 1.0000\n",
            "Epoch 40/50\n",
            "46/46 [==============================] - 64s 1s/step - loss: 1.8903e-06 - accuracy: 1.0000 - val_loss: 2.2472e-10 - val_accuracy: 1.0000\n",
            "Epoch 41/50\n",
            "46/46 [==============================] - 64s 1s/step - loss: 0.0033 - accuracy: 0.9993 - val_loss: 1.6850e-08 - val_accuracy: 1.0000\n",
            "Epoch 42/50\n",
            "46/46 [==============================] - 64s 1s/step - loss: 0.0021 - accuracy: 0.9993 - val_loss: 1.0685e-09 - val_accuracy: 1.0000\n",
            "Epoch 43/50\n",
            "46/46 [==============================] - 64s 1s/step - loss: 0.0050 - accuracy: 0.9979 - val_loss: 1.1090e-08 - val_accuracy: 1.0000\n",
            "Epoch 44/50\n",
            "46/46 [==============================] - 64s 1s/step - loss: 9.2766e-04 - accuracy: 0.9993 - val_loss: 6.0734e-08 - val_accuracy: 1.0000\n",
            "Epoch 45/50\n",
            "46/46 [==============================] - 64s 1s/step - loss: 0.0102 - accuracy: 0.9986 - val_loss: 1.3676e-07 - val_accuracy: 1.0000\n",
            "Epoch 46/50\n",
            "46/46 [==============================] - 64s 1s/step - loss: 0.0077 - accuracy: 0.9986 - val_loss: 5.2833e-08 - val_accuracy: 1.0000\n",
            "Epoch 47/50\n",
            "46/46 [==============================] - 65s 1s/step - loss: 0.0029 - accuracy: 0.9986 - val_loss: 3.6316e-04 - val_accuracy: 1.0000\n",
            "Epoch 48/50\n",
            "46/46 [==============================] - 65s 1s/step - loss: 0.0051 - accuracy: 0.9993 - val_loss: 2.5312e-05 - val_accuracy: 1.0000\n",
            "Epoch 49/50\n",
            "46/46 [==============================] - 64s 1s/step - loss: 3.4259e-04 - accuracy: 1.0000 - val_loss: 3.7210e-04 - val_accuracy: 1.0000\n",
            "Epoch 50/50\n",
            "46/46 [==============================] - 65s 1s/step - loss: 0.0047 - accuracy: 0.9986 - val_loss: 2.0873e-06 - val_accuracy: 1.0000\n",
            "Precision:  1.0\n",
            "Recall:  1.0\n",
            "F1-score  1.0\n",
            "Sensitivity  (1.0, 1.0, None)\n",
            "Precision:  1.0\n",
            "Recall:  1.0\n",
            "F1-score  1.0\n",
            "Sensitivity  (1.0, 1.0, None)\n",
            "AUC:  1.0\n"
          ],
          "name": "stdout"
        },
        {
          "output_type": "display_data",
          "data": {
            "image/png": "[encoded data removed]",
            "text/plain": [
              "<Figure size 432x288 with 1 Axes>"
            ]
          },
          "metadata": {
            "tags": [],
            "needs_background": "light"
          }
        },
        {
          "output_type": "stream",
          "text": [
            "Fold 5\n",
            "Epoch 1/50\n",
            "46/46 [==============================] - 64s 1s/step - loss: 0.0062 - accuracy: 0.9986 - val_loss: 3.2817e-04 - val_accuracy: 1.0000\n",
            "Epoch 2/50\n",
            "46/46 [==============================] - 64s 1s/step - loss: 1.0790e-04 - accuracy: 1.0000 - val_loss: 3.7832e-04 - val_accuracy: 1.0000\n",
            "Epoch 3/50\n",
            "46/46 [==============================] - 65s 1s/step - loss: 0.0371 - accuracy: 0.9993 - val_loss: 1.9103e-07 - val_accuracy: 1.0000\n",
            "Epoch 4/50\n",
            "46/46 [==============================] - 64s 1s/step - loss: 3.4045e-04 - accuracy: 1.0000 - val_loss: 1.3897e-08 - val_accuracy: 1.0000\n",
            "Epoch 5/50\n",
            "46/46 [==============================] - 64s 1s/step - loss: 9.3452e-05 - accuracy: 1.0000 - val_loss: 1.8209e-08 - val_accuracy: 1.0000\n",
            "Epoch 6/50\n",
            "46/46 [==============================] - 64s 1s/step - loss: 3.2845e-06 - accuracy: 1.0000 - val_loss: 1.7898e-10 - val_accuracy: 1.0000\n",
            "Epoch 7/50\n",
            "46/46 [==============================] - 64s 1s/step - loss: 0.0090 - accuracy: 0.9986 - val_loss: 5.2173e-09 - val_accuracy: 1.0000\n",
            "Epoch 8/50\n",
            "46/46 [==============================] - 64s 1s/step - loss: 0.0023 - accuracy: 0.9993 - val_loss: 8.2694e-11 - val_accuracy: 1.0000\n",
            "Epoch 9/50\n",
            "46/46 [==============================] - 65s 1s/step - loss: 0.0707 - accuracy: 0.9979 - val_loss: 1.6505e-07 - val_accuracy: 1.0000\n",
            "Epoch 10/50\n",
            "46/46 [==============================] - 64s 1s/step - loss: 0.0130 - accuracy: 0.9979 - val_loss: 1.4446e-07 - val_accuracy: 1.0000\n",
            "Epoch 11/50\n",
            "46/46 [==============================] - 65s 1s/step - loss: 7.9457e-05 - accuracy: 1.0000 - val_loss: 1.1342e-07 - val_accuracy: 1.0000\n",
            "Epoch 12/50\n",
            "46/46 [==============================] - 65s 1s/step - loss: 0.0055 - accuracy: 0.9993 - val_loss: 1.4510e-09 - val_accuracy: 1.0000\n",
            "Epoch 13/50\n",
            "46/46 [==============================] - 65s 1s/step - loss: 0.0018 - accuracy: 0.9993 - val_loss: 2.1368e-07 - val_accuracy: 1.0000\n",
            "Epoch 14/50\n",
            "46/46 [==============================] - 64s 1s/step - loss: 0.0058 - accuracy: 0.9993 - val_loss: 0.0163 - val_accuracy: 0.9938\n",
            "Epoch 15/50\n",
            "46/46 [==============================] - 64s 1s/step - loss: 0.0015 - accuracy: 0.9993 - val_loss: 2.4310e-04 - val_accuracy: 1.0000\n",
            "Epoch 16/50\n",
            "46/46 [==============================] - 64s 1s/step - loss: 0.0098 - accuracy: 0.9986 - val_loss: 5.3596e-13 - val_accuracy: 1.0000\n",
            "Epoch 17/50\n",
            "46/46 [==============================] - 64s 1s/step - loss: 0.0138 - accuracy: 0.9986 - val_loss: 4.0017e-10 - val_accuracy: 1.0000\n",
            "Epoch 18/50\n",
            "46/46 [==============================] - 64s 1s/step - loss: 0.0041 - accuracy: 0.9993 - val_loss: 1.7136e-06 - val_accuracy: 1.0000\n",
            "Epoch 19/50\n",
            "46/46 [==============================] - 64s 1s/step - loss: 0.0529 - accuracy: 0.9993 - val_loss: 7.1740e-06 - val_accuracy: 1.0000\n",
            "Epoch 20/50\n",
            "46/46 [==============================] - 65s 1s/step - loss: 0.0010 - accuracy: 1.0000 - val_loss: 2.4317e-05 - val_accuracy: 1.0000\n",
            "Epoch 21/50\n",
            "46/46 [==============================] - 65s 1s/step - loss: 1.9829e-04 - accuracy: 1.0000 - val_loss: 2.0567e-04 - val_accuracy: 1.0000\n",
            "Epoch 22/50\n",
            "46/46 [==============================] - 64s 1s/step - loss: 5.1738e-05 - accuracy: 1.0000 - val_loss: 1.0269e-07 - val_accuracy: 1.0000\n",
            "Epoch 23/50\n",
            "46/46 [==============================] - 64s 1s/step - loss: 1.3409e-04 - accuracy: 1.0000 - val_loss: 2.7363e-09 - val_accuracy: 1.0000\n",
            "Epoch 24/50\n",
            "46/46 [==============================] - 64s 1s/step - loss: 0.0374 - accuracy: 0.9979 - val_loss: 1.5477e-05 - val_accuracy: 1.0000\n",
            "Epoch 25/50\n",
            "46/46 [==============================] - 65s 1s/step - loss: 0.0032 - accuracy: 0.9986 - val_loss: 2.7655e-09 - val_accuracy: 1.0000\n",
            "Epoch 26/50\n",
            "46/46 [==============================] - 64s 1s/step - loss: 4.9585e-05 - accuracy: 1.0000 - val_loss: 1.1023e-08 - val_accuracy: 1.0000\n",
            "Epoch 27/50\n",
            "46/46 [==============================] - 65s 1s/step - loss: 9.8729e-05 - accuracy: 1.0000 - val_loss: 2.0569e-08 - val_accuracy: 1.0000\n",
            "Epoch 28/50\n",
            "46/46 [==============================] - 65s 1s/step - loss: 2.4368e-07 - accuracy: 1.0000 - val_loss: 1.7599e-09 - val_accuracy: 1.0000\n",
            "Epoch 29/50\n",
            "46/46 [==============================] - 64s 1s/step - loss: 0.0046 - accuracy: 0.9986 - val_loss: 2.7657e-05 - val_accuracy: 1.0000\n",
            "Epoch 30/50\n",
            "46/46 [==============================] - 64s 1s/step - loss: 5.1939e-04 - accuracy: 1.0000 - val_loss: 1.3117e-05 - val_accuracy: 1.0000\n",
            "Epoch 31/50\n",
            "46/46 [==============================] - 64s 1s/step - loss: 0.0051 - accuracy: 0.9986 - val_loss: 7.1593e-10 - val_accuracy: 1.0000\n",
            "Epoch 32/50\n",
            "46/46 [==============================] - 65s 1s/step - loss: 2.1556e-04 - accuracy: 1.0000 - val_loss: 1.5360e-09 - val_accuracy: 1.0000\n",
            "Epoch 33/50\n",
            "46/46 [==============================] - 64s 1s/step - loss: 4.0818e-04 - accuracy: 1.0000 - val_loss: 0.0135 - val_accuracy: 0.9938\n",
            "Epoch 34/50\n",
            "46/46 [==============================] - 64s 1s/step - loss: 6.7825e-04 - accuracy: 0.9993 - val_loss: 9.2470e-09 - val_accuracy: 1.0000\n",
            "Epoch 35/50\n",
            "46/46 [==============================] - 64s 1s/step - loss: 5.4747e-07 - accuracy: 1.0000 - val_loss: 1.2229e-09 - val_accuracy: 1.0000\n",
            "Epoch 36/50\n",
            "46/46 [==============================] - 65s 1s/step - loss: 5.2428e-07 - accuracy: 1.0000 - val_loss: 1.8204e-11 - val_accuracy: 1.0000\n",
            "Epoch 37/50\n",
            "46/46 [==============================] - 64s 1s/step - loss: 0.1822 - accuracy: 0.9952 - val_loss: 1.4356e-09 - val_accuracy: 1.0000\n",
            "Epoch 38/50\n",
            "46/46 [==============================] - 65s 1s/step - loss: 0.0160 - accuracy: 0.9979 - val_loss: 2.8185e-08 - val_accuracy: 1.0000\n",
            "Epoch 39/50\n",
            "46/46 [==============================] - 65s 1s/step - loss: 1.4149e-04 - accuracy: 1.0000 - val_loss: 2.9304e-07 - val_accuracy: 1.0000\n",
            "Epoch 40/50\n",
            "46/46 [==============================] - 64s 1s/step - loss: 4.4747e-05 - accuracy: 1.0000 - val_loss: 3.9080e-08 - val_accuracy: 1.0000\n",
            "Epoch 41/50\n",
            "46/46 [==============================] - 65s 1s/step - loss: 1.5494e-04 - accuracy: 1.0000 - val_loss: 4.1084e-07 - val_accuracy: 1.0000\n",
            "Epoch 42/50\n",
            "46/46 [==============================] - 65s 1s/step - loss: 0.0099 - accuracy: 0.9986 - val_loss: 5.2039e-08 - val_accuracy: 1.0000\n",
            "Epoch 43/50\n",
            "46/46 [==============================] - 64s 1s/step - loss: 0.0031 - accuracy: 0.9993 - val_loss: 2.1832e-09 - val_accuracy: 1.0000\n",
            "Epoch 44/50\n",
            "46/46 [==============================] - 64s 1s/step - loss: 0.0032 - accuracy: 0.9993 - val_loss: 1.6346e-04 - val_accuracy: 1.0000\n",
            "Epoch 45/50\n",
            "46/46 [==============================] - 64s 1s/step - loss: 0.0043 - accuracy: 0.9986 - val_loss: 0.0046 - val_accuracy: 0.9938\n",
            "Epoch 46/50\n",
            "46/46 [==============================] - 64s 1s/step - loss: 0.0111 - accuracy: 0.9972 - val_loss: 3.5350e-04 - val_accuracy: 1.0000\n",
            "Epoch 47/50\n",
            "46/46 [==============================] - 64s 1s/step - loss: 7.2481e-05 - accuracy: 1.0000 - val_loss: 8.0106e-05 - val_accuracy: 1.0000\n",
            "Epoch 48/50\n",
            "46/46 [==============================] - 64s 1s/step - loss: 0.0029 - accuracy: 0.9993 - val_loss: 0.0940 - val_accuracy: 0.9876\n",
            "Epoch 49/50\n",
            "46/46 [==============================] - 64s 1s/step - loss: 3.0712e-04 - accuracy: 1.0000 - val_loss: 0.0156 - val_accuracy: 0.9938\n",
            "Epoch 50/50\n",
            "46/46 [==============================] - 64s 1s/step - loss: 9.0611e-05 - accuracy: 1.0000 - val_loss: 0.0034 - val_accuracy: 1.0000\n",
            "Precision:  1.0\n",
            "Recall:  1.0\n",
            "F1-score  1.0\n",
            "Sensitivity  (1.0, 1.0, None)\n",
            "Precision:  1.0\n",
            "Recall:  1.0\n",
            "F1-score  1.0\n",
            "Sensitivity  (1.0, 1.0, None)\n",
            "AUC:  1.0\n"
          ],
          "name": "stdout"
        },
        {
          "output_type": "display_data",
          "data": {
            "image/png": "[encoded data removed]",
            "text/plain": [
              "<Figure size 432x288 with 1 Axes>"
            ]
          },
          "metadata": {
            "tags": [],
            "needs_background": "light"
          }
        }
      ]
    },
    {
      "cell_type": "code",
      "metadata": {
        "id": "W0jrSZHz-ULc",
        "colab": {
          "base_uri": "https://localhost:8080/"
        },
        "outputId": "72a384e1-fb08-479c-d44e-9f75420b83c7"
      },
      "source": [
        "val_acc=History[0].history['val_accuracy']\n",
        "val_acc1=History[1].history['val_accuracy']\n",
        "val_acc2=History[2].history['val_accuracy']\n",
        "val_acc3=History[3].history['val_accuracy']\n",
        "val_acc4=History[4].history['val_accuracy']\n",
        "Accuracvalid1=val_acc[49]\n",
        "Accuracyvalid2=val_acc1[49]\n",
        "Accuracyvalid3=val_acc2[49]\n",
        "Accuracyvalid4=val_acc3[49]\n",
        "Accuracyvalid5=val_acc4[49]\n",
        "Mean_valid_Accuracy=(Accuracvalid1+Accuracyvalid2+Accuracyvalid3+Accuracyvalid4+Accuracyvalid5)/5.00\n",
        "print(\"validation Accuracy for Fold-1 \",Accuracvalid1)\n",
        "print(\"validation Accuracy for Fold-2\",Accuracyvalid2)\n",
        "print(\"Validation Accuracy for Fold-3 \",Accuracyvalid3)\n",
        "print(\"Validation Accuracy for Fold-4  \",Accuracyvalid4)\n",
        "print(\"Validation Accuracy for Fold-5  \",Accuracyvalid5)\n",
        "print(\"Mean Validation Accuracy \",Mean_valid_Accuracy)"
      ],
      "execution_count": 14,
      "outputs": [
        {
          "output_type": "stream",
          "text": [
            "validation Accuracy for Fold-1  0.9937888383865356\n",
            "validation Accuracy for Fold-2 1.0\n",
            "Validation Accuracy for Fold-3  1.0\n",
            "Validation Accuracy for Fold-4   1.0\n",
            "Validation Accuracy for Fold-5   1.0\n",
            "Mean Validation Accuracy  0.9987577676773072\n"
          ],
          "name": "stdout"
        }
      ]
    },
    {
      "cell_type": "code",
      "metadata": {
        "id": "NAhrg0NnCBfy",
        "colab": {
          "base_uri": "https://localhost:8080/"
        },
        "outputId": "2ed22124-96e1-43da-ce5f-889468291ac0"
      },
      "source": [
        "print(\"Printing the precision scores and average of them\")\n",
        "avg=0.0\n",
        "for i in range(5):\n",
        "  print(\"Precision of Fold -\",i+1,Prescore[i])\n",
        "  avg=avg+Prescore[i]\n",
        "\n",
        "print(\"Average precision-score \",avg/5.00)"
      ],
      "execution_count": 15,
      "outputs": [
        {
          "output_type": "stream",
          "text": [
            "Printing the precision scores and average of them\n",
            "Precision of Fold - 1 0.9911504424778761\n",
            "Precision of Fold - 2 1.0\n",
            "Precision of Fold - 3 1.0\n",
            "Precision of Fold - 4 1.0\n",
            "Precision of Fold - 5 1.0\n",
            "Average precision-score  0.9982300884955752\n"
          ],
          "name": "stdout"
        }
      ]
    },
    {
      "cell_type": "code",
      "metadata": {
        "id": "c237G5d7CHxs",
        "colab": {
          "base_uri": "https://localhost:8080/"
        },
        "outputId": "6c128af1-9c9c-4cd8-c255-6634a97849c0"
      },
      "source": [
        "print(\"Printing the recall scores and average of them\")\n",
        "avgr=0.0\n",
        "for i in range(5):\n",
        "  print(\"Precision of Fold -\",i+1,Recall[i])\n",
        "  avgr=avgr+Recall[i]\n",
        "\n",
        "print(\"Average precision-score \",avgr/5.00)"
      ],
      "execution_count": 16,
      "outputs": [
        {
          "output_type": "stream",
          "text": [
            "Printing the recall scores and average of them\n",
            "Precision of Fold - 1 1.0\n",
            "Precision of Fold - 2 1.0\n",
            "Precision of Fold - 3 1.0\n",
            "Precision of Fold - 4 1.0\n",
            "Precision of Fold - 5 1.0\n",
            "Average precision-score  1.0\n"
          ],
          "name": "stdout"
        }
      ]
    },
    {
      "cell_type": "code",
      "metadata": {
        "id": "b_FjoQtpCQiT",
        "colab": {
          "base_uri": "https://localhost:8080/"
        },
        "outputId": "f28a4bdc-235c-489f-af0f-0aa889a23675"
      },
      "source": [
        "print(\"Printing the F-1 scores and average of them\")\n",
        "avgf=0.0\n",
        "for i in range(5):\n",
        "  print(\"Precision of Fold -\",i+1,F1[i])\n",
        "  avgf=avgf+F1[i]\n",
        "\n",
        "print(\"Average f1-score \",avgf/5.00)"
      ],
      "execution_count": 17,
      "outputs": [
        {
          "output_type": "stream",
          "text": [
            "Printing the F-1 scores and average of them\n",
            "Precision of Fold - 1 0.9955555555555555\n",
            "Precision of Fold - 2 1.0\n",
            "Precision of Fold - 3 1.0\n",
            "Precision of Fold - 4 1.0\n",
            "Precision of Fold - 5 1.0\n",
            "Average f1-score  0.9991111111111112\n"
          ],
          "name": "stdout"
        }
      ]
    },
    {
      "cell_type": "code",
      "metadata": {
        "id": "PdQBwLYnCSOn",
        "colab": {
          "base_uri": "https://localhost:8080/"
        },
        "outputId": "a2216e60-400f-42c7-8ee4-a569a26b841d"
      },
      "source": [
        "print(\"Printing the sensitivity scores and average of them\")\n",
        "avgsen=0.0\n",
        "for i in range(5):\n",
        "  print(\"Precision of Fold -\",i+1,Sensspeci[i][0])\n",
        "  avgsen=avgsen+Sensspeci[i][0]\n",
        "\n",
        "print(\"Average sensitivity-score \",avgsen/5.00)"
      ],
      "execution_count": 18,
      "outputs": [
        {
          "output_type": "stream",
          "text": [
            "Printing the sensitivity scores and average of them\n",
            "Precision of Fold - 1 1.0\n",
            "Precision of Fold - 2 1.0\n",
            "Precision of Fold - 3 1.0\n",
            "Precision of Fold - 4 1.0\n",
            "Precision of Fold - 5 1.0\n",
            "Average sensitivity-score  1.0\n"
          ],
          "name": "stdout"
        }
      ]
    },
    {
      "cell_type": "code",
      "metadata": {
        "id": "T3RKA_D6CXEJ",
        "colab": {
          "base_uri": "https://localhost:8080/"
        },
        "outputId": "fc89b6c3-1658-4cbb-85ae-11ae8324016c"
      },
      "source": [
        "print(\"Printing the specificity scores and average of them\")\n",
        "avgsp=0.0\n",
        "for i in range(5):\n",
        "  print(\"Precision of Fold -\",i+1,Sensspeci[i][1])\n",
        "  avgsp=avgsp+Sensspeci[i][1]\n",
        "\n",
        "print(\"Average specificity-score \",avgsp/5.00)"
      ],
      "execution_count": 19,
      "outputs": [
        {
          "output_type": "stream",
          "text": [
            "Printing the specificity scores and average of them\n",
            "Precision of Fold - 1 0.9795918367346939\n",
            "Precision of Fold - 2 1.0\n",
            "Precision of Fold - 3 1.0\n",
            "Precision of Fold - 4 1.0\n",
            "Precision of Fold - 5 1.0\n",
            "Average specificity-score  0.9959183673469388\n"
          ],
          "name": "stdout"
        }
      ]
    },
    {
      "cell_type": "code",
      "metadata": {
        "id": "9SusC2OWCbP3",
        "colab": {
          "base_uri": "https://localhost:8080/"
        },
        "outputId": "f6e9448d-f0cd-4059-a2c3-42cfa34b7788"
      },
      "source": [
        "y_predict=model.predict(x_test)\n",
        "predict=np.float32(y_predict>0.50)\n",
        "predict=np.reshape(predict,(403,1))\n",
        "print(Y_predict)"
      ],
      "execution_count": 20,
      "outputs": [
        {
          "output_type": "stream",
          "text": [
            "[[1.]\n",
            " [0.]\n",
            " [1.]\n",
            " [1.]\n",
            " [0.]\n",
            " [1.]\n",
            " [1.]\n",
            " [1.]\n",
            " [1.]\n",
            " [0.]\n",
            " [1.]\n",
            " [1.]\n",
            " [1.]\n",
            " [1.]\n",
            " [0.]\n",
            " [1.]\n",
            " [0.]\n",
            " [1.]\n",
            " [1.]\n",
            " [1.]\n",
            " [0.]\n",
            " [0.]\n",
            " [1.]\n",
            " [1.]\n",
            " [0.]\n",
            " [1.]\n",
            " [0.]\n",
            " [0.]\n",
            " [0.]\n",
            " [1.]\n",
            " [1.]\n",
            " [1.]\n",
            " [0.]\n",
            " [1.]\n",
            " [1.]\n",
            " [1.]\n",
            " [1.]\n",
            " [1.]\n",
            " [1.]\n",
            " [1.]\n",
            " [1.]\n",
            " [1.]\n",
            " [1.]\n",
            " [1.]\n",
            " [1.]\n",
            " [0.]\n",
            " [0.]\n",
            " [0.]\n",
            " [0.]\n",
            " [1.]\n",
            " [1.]\n",
            " [1.]\n",
            " [1.]\n",
            " [0.]\n",
            " [1.]\n",
            " [1.]\n",
            " [1.]\n",
            " [1.]\n",
            " [0.]\n",
            " [0.]\n",
            " [1.]\n",
            " [1.]\n",
            " [1.]\n",
            " [1.]\n",
            " [0.]\n",
            " [1.]\n",
            " [0.]\n",
            " [0.]\n",
            " [0.]\n",
            " [0.]\n",
            " [0.]\n",
            " [0.]\n",
            " [0.]\n",
            " [0.]\n",
            " [1.]\n",
            " [1.]\n",
            " [1.]\n",
            " [1.]\n",
            " [0.]\n",
            " [0.]\n",
            " [1.]\n",
            " [1.]\n",
            " [0.]\n",
            " [0.]\n",
            " [1.]\n",
            " [1.]\n",
            " [1.]\n",
            " [1.]\n",
            " [0.]\n",
            " [1.]\n",
            " [1.]\n",
            " [1.]\n",
            " [0.]\n",
            " [1.]\n",
            " [0.]\n",
            " [0.]\n",
            " [1.]\n",
            " [0.]\n",
            " [0.]\n",
            " [1.]\n",
            " [1.]\n",
            " [1.]\n",
            " [1.]\n",
            " [1.]\n",
            " [0.]\n",
            " [1.]\n",
            " [1.]\n",
            " [0.]\n",
            " [1.]\n",
            " [1.]\n",
            " [0.]\n",
            " [1.]\n",
            " [1.]\n",
            " [1.]\n",
            " [1.]\n",
            " [0.]\n",
            " [1.]\n",
            " [1.]\n",
            " [1.]\n",
            " [0.]\n",
            " [0.]\n",
            " [1.]\n",
            " [1.]\n",
            " [1.]\n",
            " [0.]\n",
            " [1.]\n",
            " [1.]\n",
            " [1.]\n",
            " [1.]\n",
            " [0.]\n",
            " [0.]\n",
            " [0.]\n",
            " [0.]\n",
            " [0.]\n",
            " [0.]\n",
            " [0.]\n",
            " [0.]\n",
            " [1.]\n",
            " [1.]\n",
            " [0.]\n",
            " [0.]\n",
            " [1.]\n",
            " [0.]\n",
            " [1.]\n",
            " [1.]\n",
            " [0.]\n",
            " [1.]\n",
            " [0.]\n",
            " [0.]\n",
            " [1.]\n",
            " [0.]\n",
            " [1.]\n",
            " [1.]\n",
            " [0.]\n",
            " [0.]\n",
            " [0.]\n",
            " [1.]\n",
            " [1.]\n",
            " [1.]\n",
            " [1.]\n",
            " [1.]]\n"
          ],
          "name": "stdout"
        }
      ]
    },
    {
      "cell_type": "code",
      "metadata": {
        "id": "g4cWqPHECmFI"
      },
      "source": [
        "from sklearn.metrics import confusion_matrix"
      ],
      "execution_count": 21,
      "outputs": []
    },
    {
      "cell_type": "code",
      "metadata": {
        "id": "22cx22EnCrKF",
        "colab": {
          "base_uri": "https://localhost:8080/"
        },
        "outputId": "cf405d19-7b82-4e74-ff4a-69baddfda26d"
      },
      "source": [
        "metrics=confusion_matrix(y_test,predict)\n",
        "print(metrics)"
      ],
      "execution_count": 22,
      "outputs": [
        {
          "output_type": "stream",
          "text": [
            "[[117   0]\n",
            " [  0 286]]\n"
          ],
          "name": "stdout"
        }
      ]
    },
    {
      "cell_type": "code",
      "metadata": {
        "colab": {
          "base_uri": "https://localhost:8080/"
        },
        "id": "UraK25DbRyY-",
        "outputId": "71f487c9-8183-4420-9a80-7b6dce70b607"
      },
      "source": [
        "precision= precision_score(y_test,predict)\n",
        "print(precision)"
      ],
      "execution_count": 38,
      "outputs": [
        {
          "output_type": "stream",
          "text": [
            "1.0\n"
          ],
          "name": "stdout"
        }
      ]
    },
    {
      "cell_type": "code",
      "metadata": {
        "colab": {
          "base_uri": "https://localhost:8080/"
        },
        "id": "7mhLHfq0SFdp",
        "outputId": "ffa42cfb-4898-4517-8d8b-11a039e38fc6"
      },
      "source": [
        "recall= recall_score(y_test,predict)\n",
        "print(recall)"
      ],
      "execution_count": 40,
      "outputs": [
        {
          "output_type": "stream",
          "text": [
            "1.0\n"
          ],
          "name": "stdout"
        }
      ]
    },
    {
      "cell_type": "code",
      "metadata": {
        "id": "TgBijsosStR-"
      },
      "source": [
        "from sklearn.metrics import auc,roc_curve\n",
        "fpr, tpr, thresholds = roc_curve(y_test,y_predict)\n",
        "auc = roc_auc_score(y_test, y_predict)"
      ],
      "execution_count": 41,
      "outputs": []
    },
    {
      "cell_type": "code",
      "metadata": {
        "colab": {
          "base_uri": "https://localhost:8080/"
        },
        "id": "c8X5O-p4SwMq",
        "outputId": "4b993c2a-4852-4d51-dfdf-98702d5f3160"
      },
      "source": [
        "print(auc)"
      ],
      "execution_count": 42,
      "outputs": [
        {
          "output_type": "stream",
          "text": [
            "1.0\n"
          ],
          "name": "stdout"
        }
      ]
    },
    {
      "cell_type": "code",
      "metadata": {
        "colab": {
          "base_uri": "https://localhost:8080/",
          "height": 295
        },
        "id": "3ZFPP9AaS1Ah",
        "outputId": "76936f75-5b44-40b4-8101-6dbc7eba6cfb"
      },
      "source": [
        "import matplotlib.pyplot as plt\n",
        "plt.figure()\n",
        "plt.plot(fpr, tpr,label='ROC curve (area = %0.4f)' % auc)\n",
        "plt.plot([0, 1], [0, 1], 'k--')\n",
        "plt.xlim([-0.1, 1.0])\n",
        "plt.ylim([0.0, 1.05])\n",
        "plt.xlabel('False Positive Rate')\n",
        "plt.ylabel('True Positive Rate')\n",
        "plt.title('Receiver operating characteristic for Breast Cancer Classification')\n",
        "plt.legend(loc=\"lower right\")\n",
        "plt.show()"
      ],
      "execution_count": 44,
      "outputs": [
        {
          "output_type": "display_data",
          "data": {
            "image/png": "[encoded data removed]",
            "text/plain": [
              "<Figure size 432x288 with 1 Axes>"
            ]
          },
          "metadata": {
            "tags": [],
            "needs_background": "light"
          }
        }
      ]
    },
    {
      "cell_type": "code",
      "metadata": {
        "id": "3TKerrbCuxXK",
        "colab": {
          "base_uri": "https://localhost:8080/",
          "height": 331
        },
        "outputId": "c8eb1580-d6c2-45b0-ba8c-e7fe540af117"
      },
      "source": [
        "import matplotlib.pyplot as plt\n",
        "acc=History[0].history['accuracy']\n",
        "val_acc=History[0].history['val_accuracy']\n",
        "loss=History[0].history['loss']\n",
        "val_loss=History[0].history['val_loss']\n",
        "\n",
        "epochs=range(len(acc))\n",
        "\n",
        "plt.plot(epochs,acc,'r',label=\"Training Accuracy\")\n",
        "plt.plot(epochs,val_acc,'b',label=\"Validation Accuracy\")\n",
        "plt.ylim((0.760,1.00))\n",
        "plt.xlim([0,50])\n",
        "plt.title(\"Training and validation Accuracy\")\n",
        "plt.xlabel(\"Epochs\")\n",
        "plt.ylabel(\"Accuracy\")\n",
        "plt.legend(loc=\"lower right\")\n",
        "plt.figure()"
      ],
      "execution_count": 23,
      "outputs": [
        {
          "output_type": "execute_result",
          "data": {
            "text/plain": [
              "<Figure size 432x288 with 0 Axes>"
            ]
          },
          "metadata": {
            "tags": []
          },
          "execution_count": 23
        },
        {
          "output_type": "display_data",
          "data": {
            "image/png": "[encoded data removed]",
            "text/plain": [
              "<Figure size 432x288 with 1 Axes>"
            ]
          },
          "metadata": {
            "tags": [],
            "needs_background": "light"
          }
        },
        {
          "output_type": "display_data",
          "data": {
            "text/plain": [
              "<Figure size 432x288 with 0 Axes>"
            ]
          },
          "metadata": {
            "tags": []
          }
        }
      ]
    },
    {
      "cell_type": "code",
      "metadata": {
        "id": "RznNUBZwvhoF",
        "colab": {
          "base_uri": "https://localhost:8080/",
          "height": 317
        },
        "outputId": "ecc7f75c-3897-4910-cab2-257f1e3b6829"
      },
      "source": [
        "plt.plot(epochs,loss,'r')\n",
        "plt.plot(epochs,val_loss,'b')\n",
        "plt.title(\"Training and validation Loss For Fold-1\")\n",
        "plt.figure()"
      ],
      "execution_count": 24,
      "outputs": [
        {
          "output_type": "execute_result",
          "data": {
            "text/plain": [
              "<Figure size 432x288 with 0 Axes>"
            ]
          },
          "metadata": {
            "tags": []
          },
          "execution_count": 24
        },
        {
          "output_type": "display_data",
          "data": {
            "image/png": "[encoded data removed]",
            "text/plain": [
              "<Figure size 432x288 with 1 Axes>"
            ]
          },
          "metadata": {
            "tags": [],
            "needs_background": "light"
          }
        },
        {
          "output_type": "display_data",
          "data": {
            "text/plain": [
              "<Figure size 432x288 with 0 Axes>"
            ]
          },
          "metadata": {
            "tags": []
          }
        }
      ]
    },
    {
      "cell_type": "code",
      "metadata": {
        "colab": {
          "base_uri": "https://localhost:8080/",
          "height": 317
        },
        "id": "LnTBGhBBQ72D",
        "outputId": "71f23acc-26d6-4b18-f4c5-47a344cdd968"
      },
      "source": [
        "plt.plot(epochs,loss,'r')\n",
        "plt.plot(epochs,val_loss,'b')\n",
        "plt.title(\"Training and validation Loss For Fold-1\")\n",
        "plt.figure()"
      ],
      "execution_count": 26,
      "outputs": [
        {
          "output_type": "execute_result",
          "data": {
            "text/plain": [
              "<Figure size 432x288 with 0 Axes>"
            ]
          },
          "metadata": {
            "tags": []
          },
          "execution_count": 26
        },
        {
          "output_type": "display_data",
          "data": {
            "image/png": "[encoded data removed]",
            "text/plain": [
              "<Figure size 432x288 with 1 Axes>"
            ]
          },
          "metadata": {
            "tags": [],
            "needs_background": "light"
          }
        },
        {
          "output_type": "display_data",
          "data": {
            "text/plain": [
              "<Figure size 432x288 with 0 Axes>"
            ]
          },
          "metadata": {
            "tags": []
          }
        }
      ]
    },
    {
      "cell_type": "code",
      "metadata": {
        "colab": {
          "base_uri": "https://localhost:8080/",
          "height": 317
        },
        "id": "pPnA2yU9RKOx",
        "outputId": "d4758294-ad8e-4d62-8a10-e8a3773d191c"
      },
      "source": [
        "plt.plot(epochs,loss,'r')\n",
        "plt.plot(epochs,val_loss,'b')\n",
        "plt.title(\"Training and validation Loss For Fold-1\")\n",
        "plt.figure()"
      ],
      "execution_count": 28,
      "outputs": [
        {
          "output_type": "execute_result",
          "data": {
            "text/plain": [
              "<Figure size 432x288 with 0 Axes>"
            ]
          },
          "metadata": {
            "tags": []
          },
          "execution_count": 28
        },
        {
          "output_type": "display_data",
          "data": {
            "image/png": "[encoded data removed]",
            "text/plain": [
              "<Figure size 432x288 with 1 Axes>"
            ]
          },
          "metadata": {
            "tags": [],
            "needs_background": "light"
          }
        },
        {
          "output_type": "display_data",
          "data": {
            "text/plain": [
              "<Figure size 432x288 with 0 Axes>"
            ]
          },
          "metadata": {
            "tags": []
          }
        }
      ]
    },
    {
      "cell_type": "code",
      "metadata": {
        "colab": {
          "base_uri": "https://localhost:8080/",
          "height": 331
        },
        "id": "CwDz3nt9LKkl",
        "outputId": "97d7affc-45c7-4157-cce4-b43b9dc3948f"
      },
      "source": [
        "import matplotlib.pyplot as plt\n",
        "acc=History[1].history['accuracy']\n",
        "val_acc=History[1].history['val_accuracy']\n",
        "loss=History[1].history['loss']\n",
        "val_loss=History[1].history['val_loss']\n",
        "\n",
        "epochs=range(len(acc))\n",
        "\n",
        "plt.plot(epochs,acc,'r',label=\"Training Accuracy\")\n",
        "plt.plot(epochs,val_acc,'b',label=\"Validation Accuracy\")\n",
        "plt.ylim((0.760,1.00))\n",
        "plt.xlim([0,50])\n",
        "plt.title(\"Training and validation Accuracy\")\n",
        "plt.xlabel(\"Epochs\")\n",
        "plt.ylabel(\"Accuracy\")\n",
        "plt.legend(loc=\"lower right\")\n",
        "plt.figure()"
      ],
      "execution_count": 25,
      "outputs": [
        {
          "output_type": "execute_result",
          "data": {
            "text/plain": [
              "<Figure size 432x288 with 0 Axes>"
            ]
          },
          "metadata": {
            "tags": []
          },
          "execution_count": 25
        },
        {
          "output_type": "display_data",
          "data": {
            "image/png": "[encoded data removed]",
            "text/plain": [
              "<Figure size 432x288 with 1 Axes>"
            ]
          },
          "metadata": {
            "tags": [],
            "needs_background": "light"
          }
        },
        {
          "output_type": "display_data",
          "data": {
            "text/plain": [
              "<Figure size 432x288 with 0 Axes>"
            ]
          },
          "metadata": {
            "tags": []
          }
        }
      ]
    },
    {
      "cell_type": "code",
      "metadata": {
        "colab": {
          "base_uri": "https://localhost:8080/",
          "height": 331
        },
        "id": "6YOVYkVORDZ9",
        "outputId": "ea1a96d5-2cbf-469a-d9d3-eef544ff6e7e"
      },
      "source": [
        "import matplotlib.pyplot as plt\n",
        "acc=History[2].history['accuracy']\n",
        "val_acc=History[2].history['val_accuracy']\n",
        "loss=History[2].history['loss']\n",
        "val_loss=History[2].history['val_loss']\n",
        "\n",
        "epochs=range(len(acc))\n",
        "\n",
        "plt.plot(epochs,acc,'r',label=\"Training Accuracy\")\n",
        "plt.plot(epochs,val_acc,'b',label=\"Validation Accuracy\")\n",
        "plt.ylim((0.760,1.00))\n",
        "plt.xlim([0,50])\n",
        "plt.title(\"Training and validation Accuracy\")\n",
        "plt.xlabel(\"Epochs\")\n",
        "plt.ylabel(\"Accuracy\")\n",
        "plt.legend(loc=\"lower right\")\n",
        "plt.figure()"
      ],
      "execution_count": 27,
      "outputs": [
        {
          "output_type": "execute_result",
          "data": {
            "text/plain": [
              "<Figure size 432x288 with 0 Axes>"
            ]
          },
          "metadata": {
            "tags": []
          },
          "execution_count": 27
        },
        {
          "output_type": "display_data",
          "data": {
            "image/png": "[encoded data removed]",
            "text/plain": [
              "<Figure size 432x288 with 1 Axes>"
            ]
          },
          "metadata": {
            "tags": [],
            "needs_background": "light"
          }
        },
        {
          "output_type": "display_data",
          "data": {
            "text/plain": [
              "<Figure size 432x288 with 0 Axes>"
            ]
          },
          "metadata": {
            "tags": []
          }
        }
      ]
    },
    {
      "cell_type": "code",
      "metadata": {
        "colab": {
          "base_uri": "https://localhost:8080/",
          "height": 331
        },
        "id": "p6-1ZZcMRPtO",
        "outputId": "dfba2f69-e9a0-4f3c-f506-bd05c71e1123"
      },
      "source": [
        "import matplotlib.pyplot as plt\n",
        "acc=History[3].history['accuracy']\n",
        "val_acc=History[3].history['val_accuracy']\n",
        "loss=History[3].history['loss']\n",
        "val_loss=History[3].history['val_loss']\n",
        "\n",
        "epochs=range(len(acc))\n",
        "\n",
        "plt.plot(epochs,acc,'r',label=\"Training Accuracy\")\n",
        "plt.plot(epochs,val_acc,'b',label=\"Validation Accuracy\")\n",
        "plt.ylim((0.760,1.00))\n",
        "plt.xlim([0,50])\n",
        "plt.title(\"Training and validation Accuracy\")\n",
        "plt.xlabel(\"Epochs\")\n",
        "plt.ylabel(\"Accuracy\")\n",
        "plt.legend(loc=\"lower right\")\n",
        "plt.figure()"
      ],
      "execution_count": 31,
      "outputs": [
        {
          "output_type": "execute_result",
          "data": {
            "text/plain": [
              "<Figure size 432x288 with 0 Axes>"
            ]
          },
          "metadata": {
            "tags": []
          },
          "execution_count": 31
        },
        {
          "output_type": "display_data",
          "data": {
            "image/png": "[encoded data removed]",
            "text/plain": [
              "<Figure size 432x288 with 1 Axes>"
            ]
          },
          "metadata": {
            "tags": [],
            "needs_background": "light"
          }
        },
        {
          "output_type": "display_data",
          "data": {
            "text/plain": [
              "<Figure size 432x288 with 0 Axes>"
            ]
          },
          "metadata": {
            "tags": []
          }
        }
      ]
    },
    {
      "cell_type": "code",
      "metadata": {
        "colab": {
          "base_uri": "https://localhost:8080/",
          "height": 331
        },
        "id": "zYh8HE_ERhOl",
        "outputId": "db784c2d-f45d-4bbc-9d31-f1a5b19f8f48"
      },
      "source": [
        "import matplotlib.pyplot as plt\n",
        "acc=History[4].history['accuracy']\n",
        "val_acc=History[4].history['val_accuracy']\n",
        "loss=History[4].history['loss']\n",
        "val_loss=History[4].history['val_loss']\n",
        "\n",
        "epochs=range(len(acc))\n",
        "\n",
        "plt.plot(epochs,acc,'r',label=\"Training Accuracy\")\n",
        "plt.plot(epochs,val_acc,'b',label=\"Validation Accuracy\")\n",
        "plt.ylim((0.760,1.00))\n",
        "plt.xlim([0,50])\n",
        "plt.title(\"Training and validation Accuracy\")\n",
        "plt.xlabel(\"Epochs\")\n",
        "plt.ylabel(\"Accuracy\")\n",
        "plt.legend(loc=\"lower right\")\n",
        "plt.figure()"
      ],
      "execution_count": 35,
      "outputs": [
        {
          "output_type": "execute_result",
          "data": {
            "text/plain": [
              "<Figure size 432x288 with 0 Axes>"
            ]
          },
          "metadata": {
            "tags": []
          },
          "execution_count": 35
        },
        {
          "output_type": "display_data",
          "data": {
            "image/png": "[encoded data removed]",
            "text/plain": [
              "<Figure size 432x288 with 1 Axes>"
            ]
          },
          "metadata": {
            "tags": [],
            "needs_background": "light"
          }
        },
        {
          "output_type": "display_data",
          "data": {
            "text/plain": [
              "<Figure size 432x288 with 0 Axes>"
            ]
          },
          "metadata": {
            "tags": []
          }
        }
      ]
    },
    {
      "cell_type": "code",
      "metadata": {
        "colab": {
          "base_uri": "https://localhost:8080/",
          "height": 317
        },
        "id": "JeZgTCtoRmhK",
        "outputId": "15c9229e-d782-4e07-e052-2dadb55abb72"
      },
      "source": [
        "plt.plot(epochs,loss,'r')\n",
        "plt.plot(epochs,val_loss,'b')\n",
        "plt.title(\"Training and validation Loss For Fold-1\")\n",
        "plt.figure()"
      ],
      "execution_count": 36,
      "outputs": [
        {
          "output_type": "execute_result",
          "data": {
            "text/plain": [
              "<Figure size 432x288 with 0 Axes>"
            ]
          },
          "metadata": {
            "tags": []
          },
          "execution_count": 36
        },
        {
          "output_type": "display_data",
          "data": {
            "image/png": "[encoded data removed]",
            "text/plain": [
              "<Figure size 432x288 with 1 Axes>"
            ]
          },
          "metadata": {
            "tags": [],
            "needs_background": "light"
          }
        },
        {
          "output_type": "display_data",
          "data": {
            "text/plain": [
              "<Figure size 432x288 with 0 Axes>"
            ]
          },
          "metadata": {
            "tags": []
          }
        }
      ]
    },
    {
      "cell_type": "code",
      "metadata": {
        "colab": {
          "base_uri": "https://localhost:8080/",
          "height": 317
        },
        "id": "4DDKHx3rRUmH",
        "outputId": "adf2d653-5d68-49f4-95b1-25a2e667a767"
      },
      "source": [
        "plt.plot(epochs,loss,'r')\n",
        "plt.plot(epochs,val_loss,'b')\n",
        "plt.title(\"Training and validation Loss For Fold-1\")\n",
        "plt.figure()"
      ],
      "execution_count": 32,
      "outputs": [
        {
          "output_type": "execute_result",
          "data": {
            "text/plain": [
              "<Figure size 432x288 with 0 Axes>"
            ]
          },
          "metadata": {
            "tags": []
          },
          "execution_count": 32
        },
        {
          "output_type": "display_data",
          "data": {
            "image/png": "[encoded data removed]",
            "text/plain": [
              "<Figure size 432x288 with 1 Axes>"
            ]
          },
          "metadata": {
            "tags": [],
            "needs_background": "light"
          }
        },
        {
          "output_type": "display_data",
          "data": {
            "text/plain": [
              "<Figure size 432x288 with 0 Axes>"
            ]
          },
          "metadata": {
            "tags": []
          }
        }
      ]
    }
  ]
}